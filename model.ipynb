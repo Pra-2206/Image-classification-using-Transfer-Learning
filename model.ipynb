{
 "cells": [
  {
   "cell_type": "code",
   "execution_count": null,
   "metadata": {
    "id": "KrzftDdj-Gv0"
   },
   "outputs": [],
   "source": [
    "import tensorflow as tf\n",
    "import numpy as np\n",
    "from tensorflow.keras.applications.vgg16 import VGG16\n",
    "from tensorflow.keras import layers,models"
   ]
  },
  {
   "cell_type": "markdown",
   "metadata": {},
   "source": [
    "# Model"
   ]
  },
  {
   "cell_type": "code",
   "execution_count": null,
   "metadata": {
    "colab": {
     "base_uri": "https://localhost:8080/"
    },
    "executionInfo": {
     "elapsed": 13452,
     "status": "ok",
     "timestamp": 1606274600831,
     "user": {
      "displayName": "prashant sahu",
      "photoUrl": "https://lh3.googleusercontent.com/a-/AOh14GgeeunVvhCt-r-LD-shnFtMdKy30OFuDDnAbKe-0g=s64",
      "userId": "00394510357491179858"
     },
     "user_tz": -330
    },
    "id": "1x0xXKesECwF",
    "outputId": "90bf689f-c6bc-43a2-a6d1-4371270fdda6"
   },
   "outputs": [
    {
     "name": "stdout",
     "output_type": "stream",
     "text": [
      "Downloading data from https://storage.googleapis.com/tensorflow/keras-applications/vgg16/vgg16_weights_tf_dim_ordering_tf_kernels.h5\n",
      "553467904/553467096 [==============================] - 4s 0us/step\n",
      "Model: \"vgg16\"\n",
      "_________________________________________________________________\n",
      "Layer (type)                 Output Shape              Param #   \n",
      "=================================================================\n",
      "input_1 (InputLayer)         [(None, 224, 224, 3)]     0         \n",
      "_________________________________________________________________\n",
      "block1_conv1 (Conv2D)        (None, 224, 224, 64)      1792      \n",
      "_________________________________________________________________\n",
      "block1_conv2 (Conv2D)        (None, 224, 224, 64)      36928     \n",
      "_________________________________________________________________\n",
      "block1_pool (MaxPooling2D)   (None, 112, 112, 64)      0         \n",
      "_________________________________________________________________\n",
      "block2_conv1 (Conv2D)        (None, 112, 112, 128)     73856     \n",
      "_________________________________________________________________\n",
      "block2_conv2 (Conv2D)        (None, 112, 112, 128)     147584    \n",
      "_________________________________________________________________\n",
      "block2_pool (MaxPooling2D)   (None, 56, 56, 128)       0         \n",
      "_________________________________________________________________\n",
      "block3_conv1 (Conv2D)        (None, 56, 56, 256)       295168    \n",
      "_________________________________________________________________\n",
      "block3_conv2 (Conv2D)        (None, 56, 56, 256)       590080    \n",
      "_________________________________________________________________\n",
      "block3_conv3 (Conv2D)        (None, 56, 56, 256)       590080    \n",
      "_________________________________________________________________\n",
      "block3_pool (MaxPooling2D)   (None, 28, 28, 256)       0         \n",
      "_________________________________________________________________\n",
      "block4_conv1 (Conv2D)        (None, 28, 28, 512)       1180160   \n",
      "_________________________________________________________________\n",
      "block4_conv2 (Conv2D)        (None, 28, 28, 512)       2359808   \n",
      "_________________________________________________________________\n",
      "block4_conv3 (Conv2D)        (None, 28, 28, 512)       2359808   \n",
      "_________________________________________________________________\n",
      "block4_pool (MaxPooling2D)   (None, 14, 14, 512)       0         \n",
      "_________________________________________________________________\n",
      "block5_conv1 (Conv2D)        (None, 14, 14, 512)       2359808   \n",
      "_________________________________________________________________\n",
      "block5_conv2 (Conv2D)        (None, 14, 14, 512)       2359808   \n",
      "_________________________________________________________________\n",
      "block5_conv3 (Conv2D)        (None, 14, 14, 512)       2359808   \n",
      "_________________________________________________________________\n",
      "block5_pool (MaxPooling2D)   (None, 7, 7, 512)         0         \n",
      "_________________________________________________________________\n",
      "flatten (Flatten)            (None, 25088)             0         \n",
      "_________________________________________________________________\n",
      "fc1 (Dense)                  (None, 4096)              102764544 \n",
      "_________________________________________________________________\n",
      "fc2 (Dense)                  (None, 4096)              16781312  \n",
      "_________________________________________________________________\n",
      "predictions (Dense)          (None, 1000)              4097000   \n",
      "=================================================================\n",
      "Total params: 138,357,544\n",
      "Trainable params: 138,357,544\n",
      "Non-trainable params: 0\n",
      "_________________________________________________________________\n"
     ]
    }
   ],
   "source": [
    "vgg16_model = VGG16(weights = 'imagenet',input_shape=(224,224,3))\n",
    "vgg16_model.summary()"
   ]
  },
  {
   "cell_type": "code",
   "execution_count": null,
   "metadata": {
    "id": "6fUpmXvBvTlL"
   },
   "outputs": [],
   "source": [
    "model = models.Sequential()\n",
    "for layer in vgg16_model.layers[:-1]:\n",
    "    model.add(layer)"
   ]
  },
  {
   "cell_type": "code",
   "execution_count": null,
   "metadata": {
    "id": "k7kYtCBcvrcS"
   },
   "outputs": [],
   "source": [
    "for layer in model.layers:\n",
    "  layer.trainable = False\n"
   ]
  },
  {
   "cell_type": "code",
   "execution_count": null,
   "metadata": {
    "colab": {
     "base_uri": "https://localhost:8080/"
    },
    "executionInfo": {
     "elapsed": 13445,
     "status": "ok",
     "timestamp": 1606274600837,
     "user": {
      "displayName": "prashant sahu",
      "photoUrl": "https://lh3.googleusercontent.com/a-/AOh14GgeeunVvhCt-r-LD-shnFtMdKy30OFuDDnAbKe-0g=s64",
      "userId": "00394510357491179858"
     },
     "user_tz": -330
    },
    "id": "NexgFCSwwBQV",
    "outputId": "d5e431be-568b-49dd-b3b0-d964a1a193ce"
   },
   "outputs": [
    {
     "name": "stdout",
     "output_type": "stream",
     "text": [
      "Model: \"sequential\"\n",
      "_________________________________________________________________\n",
      "Layer (type)                 Output Shape              Param #   \n",
      "=================================================================\n",
      "block1_conv1 (Conv2D)        (None, 224, 224, 64)      1792      \n",
      "_________________________________________________________________\n",
      "block1_conv2 (Conv2D)        (None, 224, 224, 64)      36928     \n",
      "_________________________________________________________________\n",
      "block1_pool (MaxPooling2D)   (None, 112, 112, 64)      0         \n",
      "_________________________________________________________________\n",
      "block2_conv1 (Conv2D)        (None, 112, 112, 128)     73856     \n",
      "_________________________________________________________________\n",
      "block2_conv2 (Conv2D)        (None, 112, 112, 128)     147584    \n",
      "_________________________________________________________________\n",
      "block2_pool (MaxPooling2D)   (None, 56, 56, 128)       0         \n",
      "_________________________________________________________________\n",
      "block3_conv1 (Conv2D)        (None, 56, 56, 256)       295168    \n",
      "_________________________________________________________________\n",
      "block3_conv2 (Conv2D)        (None, 56, 56, 256)       590080    \n",
      "_________________________________________________________________\n",
      "block3_conv3 (Conv2D)        (None, 56, 56, 256)       590080    \n",
      "_________________________________________________________________\n",
      "block3_pool (MaxPooling2D)   (None, 28, 28, 256)       0         \n",
      "_________________________________________________________________\n",
      "block4_conv1 (Conv2D)        (None, 28, 28, 512)       1180160   \n",
      "_________________________________________________________________\n",
      "block4_conv2 (Conv2D)        (None, 28, 28, 512)       2359808   \n",
      "_________________________________________________________________\n",
      "block4_conv3 (Conv2D)        (None, 28, 28, 512)       2359808   \n",
      "_________________________________________________________________\n",
      "block4_pool (MaxPooling2D)   (None, 14, 14, 512)       0         \n",
      "_________________________________________________________________\n",
      "block5_conv1 (Conv2D)        (None, 14, 14, 512)       2359808   \n",
      "_________________________________________________________________\n",
      "block5_conv2 (Conv2D)        (None, 14, 14, 512)       2359808   \n",
      "_________________________________________________________________\n",
      "block5_conv3 (Conv2D)        (None, 14, 14, 512)       2359808   \n",
      "_________________________________________________________________\n",
      "block5_pool (MaxPooling2D)   (None, 7, 7, 512)         0         \n",
      "_________________________________________________________________\n",
      "flatten (Flatten)            (None, 25088)             0         \n",
      "_________________________________________________________________\n",
      "fc1 (Dense)                  (None, 4096)              102764544 \n",
      "_________________________________________________________________\n",
      "fc2 (Dense)                  (None, 4096)              16781312  \n",
      "_________________________________________________________________\n",
      "dense (Dense)                (None, 2)                 8194      \n",
      "=================================================================\n",
      "Total params: 134,268,738\n",
      "Trainable params: 8,194\n",
      "Non-trainable params: 134,260,544\n",
      "_________________________________________________________________\n"
     ]
    }
   ],
   "source": [
    "model.add(layers.Dense(units=2,activation='softmax'))\n",
    "model.summary()"
   ]
  },
  {
   "cell_type": "code",
   "execution_count": null,
   "metadata": {
    "id": "UVPT3iOeFgWS"
   },
   "outputs": [],
   "source": [
    "model.compile(loss ='categorical_crossentropy',optimizer='adam',metrics = ['accuracy'])"
   ]
  },
  {
   "cell_type": "markdown",
   "metadata": {},
   "source": [
    "# Data access from folder"
   ]
  },
  {
   "cell_type": "code",
   "execution_count": null,
   "metadata": {
    "id": "UN61wuMEcKWX"
   },
   "outputs": [],
   "source": [
    "train_data_dir = \"/content/drive/MyDrive/training_set/training_set\""
   ]
  },
  {
   "cell_type": "code",
   "execution_count": null,
   "metadata": {
    "id": "XzPREJORl4tr"
   },
   "outputs": [],
   "source": [
    "test_data_dir = \"/content/drive/MyDrive/test_set/test_set\""
   ]
  },
  {
   "cell_type": "markdown",
   "metadata": {},
   "source": [
    "## Data Preprocessing"
   ]
  },
  {
   "cell_type": "code",
   "execution_count": null,
   "metadata": {
    "id": "5EBWrfYxaMQS"
   },
   "outputs": [],
   "source": [
    "from tensorflow.keras.preprocessing.image import ImageDataGenerator\n",
    "train_datagen = ImageDataGenerator(\n",
    "        preprocessing_function=tf.keras.applications.vgg16.preprocess_input)"
   ]
  },
  {
   "cell_type": "code",
   "execution_count": null,
   "metadata": {
    "id": "9zKAx4pYmFVh"
   },
   "outputs": [],
   "source": [
    "from tensorflow.keras.preprocessing.image import ImageDataGenerator\n",
    "test_datagen = ImageDataGenerator(\n",
    "        preprocessing_function=tf.keras.applications.vgg16.preprocess_input)"
   ]
  },
  {
   "cell_type": "code",
   "execution_count": null,
   "metadata": {
    "colab": {
     "base_uri": "https://localhost:8080/"
    },
    "executionInfo": {
     "elapsed": 33622,
     "status": "ok",
     "timestamp": 1606274621038,
     "user": {
      "displayName": "prashant sahu",
      "photoUrl": "https://lh3.googleusercontent.com/a-/AOh14GgeeunVvhCt-r-LD-shnFtMdKy30OFuDDnAbKe-0g=s64",
      "userId": "00394510357491179858"
     },
     "user_tz": -330
    },
    "id": "leQQvdGPX_TP",
    "outputId": "70b4ef2d-d15f-435b-ef41-ec53ac05357b"
   },
   "outputs": [
    {
     "name": "stdout",
     "output_type": "stream",
     "text": [
      "Total number of images for \"training\":\n",
      "Found 8005 images belonging to 2 classes.\n"
     ]
    }
   ],
   "source": [
    "print('Total number of images for \"training\":')\n",
    "train_generator = train_datagen.flow_from_directory(\n",
    "train_data_dir,\n",
    "target_size = (224,224), \n",
    "batch_size = 16,\n",
    "class_mode = 'categorical')"
   ]
  },
  {
   "cell_type": "code",
   "execution_count": null,
   "metadata": {
    "colab": {
     "base_uri": "https://localhost:8080/"
    },
    "executionInfo": {
     "elapsed": 37932,
     "status": "ok",
     "timestamp": 1606274625353,
     "user": {
      "displayName": "prashant sahu",
      "photoUrl": "https://lh3.googleusercontent.com/a-/AOh14GgeeunVvhCt-r-LD-shnFtMdKy30OFuDDnAbKe-0g=s64",
      "userId": "00394510357491179858"
     },
     "user_tz": -330
    },
    "id": "udsMSpY5mTNJ",
    "outputId": "1761759d-6d8a-4649-def6-29fe3db0c2f9"
   },
   "outputs": [
    {
     "name": "stdout",
     "output_type": "stream",
     "text": [
      "Total number of images for \"testing\":\n",
      "Found 2023 images belonging to 2 classes.\n"
     ]
    }
   ],
   "source": [
    "print('Total number of images for \"testing\":')\n",
    "test_generator = test_datagen.flow_from_directory(\n",
    "test_data_dir,\n",
    "target_size = (224,224), \n",
    "batch_size = 16,\n",
    "class_mode = 'categorical')"
   ]
  },
  {
   "cell_type": "markdown",
   "metadata": {},
   "source": [
    "# Model Training"
   ]
  },
  {
   "cell_type": "code",
   "execution_count": null,
   "metadata": {
    "colab": {
     "background_save": true,
     "base_uri": "https://localhost:8080/"
    },
    "executionInfo": {
     "elapsed": 1333688,
     "status": "ok",
     "timestamp": 1606277743204,
     "user": {
      "displayName": "prashant sahu",
      "photoUrl": "https://lh3.googleusercontent.com/a-/AOh14GgeeunVvhCt-r-LD-shnFtMdKy30OFuDDnAbKe-0g=s64",
      "userId": "00394510357491179858"
     },
     "user_tz": -330
    },
    "id": "QIMaXuGjLgLs",
    "outputId": "afc1b470-69b2-4362-f78b-ee27d8f0eef3",
    "scrolled": true
   },
   "outputs": [
    {
     "name": "stdout",
     "output_type": "stream",
     "text": [
      "Epoch 1/5\n",
      "501/501 - 2939s - loss: 0.1040 - accuracy: 0.9720\n",
      "Epoch 2/5\n",
      "501/501 - 40s - loss: 0.0522 - accuracy: 0.9860\n",
      "Epoch 3/5\n",
      "501/501 - 40s - loss: 0.0248 - accuracy: 0.9910\n",
      "Epoch 4/5\n",
      "501/501 - 40s - loss: 0.0141 - accuracy: 0.9948\n",
      "Epoch 5/5\n",
      "501/501 - 40s - loss: 0.0160 - accuracy: 0.9958\n"
     ]
    },
    {
     "data": {
      "text/plain": [
       "<tensorflow.python.keras.callbacks.History at 0x7f4c127ba668>"
      ]
     },
     "execution_count": 0,
     "metadata": {
      "tags": []
     },
     "output_type": "execute_result"
    }
   ],
   "source": [
    "model.fit(train_generator,epochs=5,steps_per_epoch=len(train_generator),verbose=2)"
   ]
  },
  {
   "cell_type": "markdown",
   "metadata": {},
   "source": [
    "# Evaluation"
   ]
  },
  {
   "cell_type": "code",
   "execution_count": 19,
   "metadata": {
    "executionInfo": {
     "elapsed": 582083,
     "status": "ok",
     "timestamp": 1606278528486,
     "user": {
      "displayName": "prashant sahu",
      "photoUrl": "https://lh3.googleusercontent.com/a-/AOh14GgeeunVvhCt-r-LD-shnFtMdKy30OFuDDnAbKe-0g=s64",
      "userId": "00394510357491179858"
     },
     "user_tz": -330
    },
    "id": "vKBGHlEscdSY"
   },
   "outputs": [],
   "source": [
    "Y_pred = model.predict(test_generator,steps=len(test_generator),verbose = 0)"
   ]
  },
  {
   "cell_type": "code",
   "execution_count": 20,
   "metadata": {
    "executionInfo": {
     "elapsed": 10247,
     "status": "ok",
     "timestamp": 1606278528487,
     "user": {
      "displayName": "prashant sahu",
      "photoUrl": "https://lh3.googleusercontent.com/a-/AOh14GgeeunVvhCt-r-LD-shnFtMdKy30OFuDDnAbKe-0g=s64",
      "userId": "00394510357491179858"
     },
     "user_tz": -330
    },
    "id": "FsfgF-vqnOf6"
   },
   "outputs": [],
   "source": [
    "y_pred = np.argmax(Y_pred ,axis=1)"
   ]
  },
  {
   "cell_type": "code",
   "execution_count": 21,
   "metadata": {
    "colab": {
     "base_uri": "https://localhost:8080/"
    },
    "executionInfo": {
     "elapsed": 10236,
     "status": "ok",
     "timestamp": 1606278528488,
     "user": {
      "displayName": "prashant sahu",
      "photoUrl": "https://lh3.googleusercontent.com/a-/AOh14GgeeunVvhCt-r-LD-shnFtMdKy30OFuDDnAbKe-0g=s64",
      "userId": "00394510357491179858"
     },
     "user_tz": -330
    },
    "id": "OgU3EOLdnovO",
    "outputId": "f969aeb5-86b7-4a50-ecb0-4ccc2ca385a8"
   },
   "outputs": [
    {
     "data": {
      "text/plain": [
       "array([1, 0, 0, ..., 1, 0, 1])"
      ]
     },
     "execution_count": 16,
     "metadata": {
      "tags": []
     },
     "output_type": "execute_result"
    },
    {
     "data": {
      "text/plain": [
       "array([1, 0, 0, ..., 1, 1, 0])"
      ]
     },
     "execution_count": 21,
     "metadata": {
      "tags": []
     },
     "output_type": "execute_result"
    }
   ],
   "source": [
    "y_pred"
   ]
  },
  {
   "cell_type": "code",
   "execution_count": 22,
   "metadata": {
    "colab": {
     "base_uri": "https://localhost:8080/"
    },
    "executionInfo": {
     "elapsed": 10230,
     "status": "ok",
     "timestamp": 1606278528489,
     "user": {
      "displayName": "prashant sahu",
      "photoUrl": "https://lh3.googleusercontent.com/a-/AOh14GgeeunVvhCt-r-LD-shnFtMdKy30OFuDDnAbKe-0g=s64",
      "userId": "00394510357491179858"
     },
     "user_tz": -330
    },
    "id": "4VzasXQ6mzyM",
    "outputId": "02eb333d-745c-4918-870c-45a5702e4168"
   },
   "outputs": [
    {
     "name": "stdout",
     "output_type": "stream",
     "text": [
      "Accuracy in test set: 49.2% \n",
      "Accuracy in test set: 50.9% \n"
     ]
    }
   ],
   "source": [
    "from sklearn.metrics import accuracy_score,confusion_matrix\n",
    "accuracy = accuracy_score(test_generator.classes, y_pred)\n",
    "print(\"Accuracy in test set: %0.1f%% \" % (accuracy * 100))"
   ]
  },
  {
   "cell_type": "code",
   "execution_count": 23,
   "metadata": {
    "colab": {
     "base_uri": "https://localhost:8080/"
    },
    "executionInfo": {
     "elapsed": 10222,
     "status": "ok",
     "timestamp": 1606278528489,
     "user": {
      "displayName": "prashant sahu",
      "photoUrl": "https://lh3.googleusercontent.com/a-/AOh14GgeeunVvhCt-r-LD-shnFtMdKy30OFuDDnAbKe-0g=s64",
      "userId": "00394510357491179858"
     },
     "user_tz": -330
    },
    "id": "8WddMirHksor",
    "outputId": "d89938fc-2123-4b3f-8138-f9a4d3603722"
   },
   "outputs": [
    {
     "data": {
      "text/plain": [
       "array([[491, 520],\n",
       "       [508, 504]])"
      ]
     },
     "execution_count": 18,
     "metadata": {
      "tags": []
     },
     "output_type": "execute_result"
    },
    {
     "data": {
      "text/plain": [
       "array([[508, 503],\n",
       "       [491, 521]])"
      ]
     },
     "execution_count": 23,
     "metadata": {
      "tags": []
     },
     "output_type": "execute_result"
    }
   ],
   "source": [
    "confusion_matrix(test_generator.classes,y_pred)"
   ]
  },
  {
   "cell_type": "code",
   "execution_count": 18,
   "metadata": {
    "executionInfo": {
     "elapsed": 28,
     "status": "ok",
     "timestamp": 1606278518299,
     "user": {
      "displayName": "prashant sahu",
      "photoUrl": "https://lh3.googleusercontent.com/a-/AOh14GgeeunVvhCt-r-LD-shnFtMdKy30OFuDDnAbKe-0g=s64",
      "userId": "00394510357491179858"
     },
     "user_tz": -330
    },
    "id": "2t8oDAXzl0-V"
   },
   "outputs": [],
   "source": []
  }
 ],
 "metadata": {
  "accelerator": "GPU",
  "colab": {
   "authorship_tag": "ABX9TyOA/Mp3z/KWQ8k6hmiCfJyK",
   "collapsed_sections": [],
   "mount_file_id": "1Qrvyg5olNe3wvUncwlxL3wrWxFjOU-z2",
   "name": "Untitled0.ipynb",
   "provenance": []
  },
  "kernelspec": {
   "display_name": "Python 3",
   "language": "python",
   "name": "python3"
  },
  "language_info": {
   "codemirror_mode": {
    "name": "ipython",
    "version": 3
   },
   "file_extension": ".py",
   "mimetype": "text/x-python",
   "name": "python",
   "nbconvert_exporter": "python",
   "pygments_lexer": "ipython3",
   "version": "3.8.3"
  }
 },
 "nbformat": 4,
 "nbformat_minor": 1
}
